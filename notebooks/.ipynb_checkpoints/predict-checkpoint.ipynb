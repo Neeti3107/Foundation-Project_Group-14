{
 "cells": [
  {
   "cell_type": "code",
   "execution_count": 9,
   "id": "5104424a-6294-4f21-a828-28c74d2a1afa",
   "metadata": {},
   "outputs": [
    {
     "name": "stdout",
     "output_type": "stream",
     "text": [
      "⚠️ Please pass an integer for number of months.\n",
      "📁 Latest cleaned file: retail_sugar_prices_2025-04-16.csv\n"
     ]
    },
    {
     "name": "stderr",
     "output_type": "stream",
     "text": [
      "WARNING:absl:Compiled the loaded model, but the compiled metrics have yet to be built. `model.compile_metrics` will be empty until you train or evaluate the model.\n"
     ]
    },
    {
     "name": "stdout",
     "output_type": "stream",
     "text": [
      "WARNING:tensorflow:6 out of the last 6 calls to <function TensorFlowTrainer.make_predict_function.<locals>.one_step_on_data_distributed at 0x0000020286B52D40> triggered tf.function retracing. Tracing is expensive and the excessive number of tracings could be due to (1) creating @tf.function repeatedly in a loop, (2) passing tensors with different shapes, (3) passing Python objects instead of tensors. For (1), please define your @tf.function outside of the loop. For (2), @tf.function has reduce_retracing=True option that can avoid unnecessary retracing. For (3), please refer to https://www.tensorflow.org/guide/function#controlling_retracing and https://www.tensorflow.org/api_docs/python/tf/function for  more details.\n"
     ]
    },
    {
     "name": "stderr",
     "output_type": "stream",
     "text": [
      "WARNING:tensorflow:6 out of the last 6 calls to <function TensorFlowTrainer.make_predict_function.<locals>.one_step_on_data_distributed at 0x0000020286B52D40> triggered tf.function retracing. Tracing is expensive and the excessive number of tracings could be due to (1) creating @tf.function repeatedly in a loop, (2) passing tensors with different shapes, (3) passing Python objects instead of tensors. For (1), please define your @tf.function outside of the loop. For (2), @tf.function has reduce_retracing=True option that can avoid unnecessary retracing. For (3), please refer to https://www.tensorflow.org/guide/function#controlling_retracing and https://www.tensorflow.org/api_docs/python/tf/function for  more details.\n"
     ]
    },
    {
     "name": "stdout",
     "output_type": "stream",
     "text": [
      "\u001b[1m1/1\u001b[0m \u001b[32m━━━━━━━━━━━━━━━━━━━━\u001b[0m\u001b[37m\u001b[0m \u001b[1m0s\u001b[0m 329ms/step\n",
      "📅 Forecast Results:\n",
      "March 2025: ₹44.97\n"
     ]
    }
   ],
   "source": [
    "import pandas as pd\n",
    "import numpy as np\n",
    "import requests\n",
    "import re\n",
    "import os\n",
    "import joblib\n",
    "import sys\n",
    "from datetime import datetime, timedelta\n",
    "from keras.models import load_model\n",
    "import tensorflow as tf\n",
    "\n",
    "# === Reproducibility ===\n",
    "SEED = 42\n",
    "np.random.seed(SEED)\n",
    "tf.random.set_seed(SEED)\n",
    "\n",
    "# === 1. Get latest cleaned CSV from GitHub ===\n",
    "def get_latest_cleaned_csv_url(user, repo, path=\"data/cleaned\"):\n",
    "    api_url = f\"https://api.github.com/repos/{user}/{repo}/contents/{path}\"\n",
    "    response = requests.get(api_url)\n",
    "    files = response.json()\n",
    "\n",
    "    csv_files = []\n",
    "    for file in files:\n",
    "        name = file['name']\n",
    "        if name.startswith(\"retail_sugar_prices_\") and name.endswith(\".csv\"):\n",
    "            match = re.search(r\"(\\d{4}-\\d{2}-\\d{2})\", name)\n",
    "            if match:\n",
    "                csv_files.append((match.group(1), name))\n",
    "\n",
    "    if not csv_files:\n",
    "        raise ValueError(\"❌ No cleaned CSV files found.\")\n",
    "    \n",
    "    latest_date, latest_file = sorted(csv_files)[-1]\n",
    "    print(f\"📁 Latest cleaned file: {latest_file}\")\n",
    "    return f\"https://raw.githubusercontent.com/{user}/{repo}/main/{path}/{latest_file}\"\n",
    "\n",
    "# === 2. Load latest model and scaler ===\n",
    "def get_latest_model_files(model_folder):\n",
    "    files = os.listdir(model_folder)\n",
    "    model_files = [f for f in files if f.startswith(\"lstm_model_rolling_diff\")]\n",
    "    scaler_files = [f for f in files if f.startswith(\"lstm_scaler_rolling_diff\")]\n",
    "    latest_model = sorted(model_files)[-1]\n",
    "    latest_scaler = sorted(scaler_files)[-1]\n",
    "    return os.path.join(model_folder, latest_model), os.path.join(model_folder, latest_scaler)\n",
    "\n",
    "# === 3. Forecast N Months Ahead ===\n",
    "def forecast_n_months(n=1, return_results=False):\n",
    "    user = \"Neeti3107\"\n",
    "    repo = \"Foundation-Project_Group-14\"\n",
    "    model_dir = r\"C:\\Users\\neeti\\Documents\\ISB_Class of Summer_2025\\04 Term 4\\Foundation\\Foundation-Project_Group-14\\models\"\n",
    "\n",
    "    # Load latest cleaned data\n",
    "    url = get_latest_cleaned_csv_url(user, repo)\n",
    "    df = pd.read_csv(url, parse_dates=['date'])\n",
    "    df['month'] = df['date'].dt.to_period(\"M\")\n",
    "    df = df.groupby('month')['price'].mean().reset_index()\n",
    "    df['month'] = df['month'].dt.to_timestamp()\n",
    "    df.set_index('month', inplace=True)\n",
    "\n",
    "    # Rolling mean diff\n",
    "    df['rolling_mean'] = df['price'].rolling(window=12).mean()\n",
    "    df['rolling_mean_diff'] = df['rolling_mean'] - df['rolling_mean'].shift()\n",
    "    rolling_diff = df['rolling_mean_diff'].dropna()\n",
    "\n",
    "    # Load model + scaler\n",
    "    model_path, scaler_path = get_latest_model_files(model_dir)\n",
    "    model = load_model(model_path)\n",
    "    scaler = joblib.load(scaler_path)\n",
    "\n",
    "    # Prepare last 12 input\n",
    "    last_12 = rolling_diff[-12:].values.reshape(-1, 1)\n",
    "    scaled_last_12 = scaler.transform(last_12)\n",
    "    input_seq = scaled_last_12.reshape((1, 12, 1))\n",
    "\n",
    "    last_rolling_mean = df['rolling_mean'].iloc[-1]\n",
    "    last_date = df.index[-1]\n",
    "\n",
    "    results = []\n",
    "    for i in range(n):\n",
    "        pred_scaled = model.predict(input_seq)\n",
    "        pred_diff = scaler.inverse_transform(pred_scaled).flatten()[0]\n",
    "        next_price = last_rolling_mean + pred_diff\n",
    "\n",
    "        # Update for next step\n",
    "        forecast_month = last_date + pd.DateOffset(months=1)\n",
    "        forecast_month_str = forecast_month.strftime(\"%B %Y\")\n",
    "\n",
    "        results.append({\n",
    "            \"month\": forecast_month_str,\n",
    "            \"price\": round(next_price, 2)\n",
    "        })\n",
    "\n",
    "        # Prepare next input\n",
    "        new_input = np.append(input_seq.flatten()[1:], scaler.transform([[pred_diff]]))\n",
    "        input_seq = new_input.reshape((1, 12, 1))\n",
    "        last_rolling_mean = next_price\n",
    "        last_date = forecast_month\n",
    "\n",
    "    if return_results:\n",
    "        return results\n",
    "    else:\n",
    "        print(\"📅 Forecast Results:\")\n",
    "        for row in results:\n",
    "            print(f\"{row['month']}: ₹{row['price']}\")\n",
    "\n",
    "# === CLI Support ===\n",
    "if __name__ == \"__main__\":\n",
    "    try:\n",
    "        n = int(sys.argv[1]) if len(sys.argv) > 1 else 1\n",
    "    except ValueError:\n",
    "        print(\"⚠️ Please pass an integer for number of months.\")\n",
    "        n = 1\n",
    "\n",
    "    forecast_n_months(n)\n"
   ]
  },
  {
   "cell_type": "code",
   "execution_count": null,
   "id": "2ccfe97e-17e5-400c-88b5-682fa01855bf",
   "metadata": {},
   "outputs": [],
   "source": []
  }
 ],
 "metadata": {
  "kernelspec": {
   "display_name": "Python 3 (ipykernel)",
   "language": "python",
   "name": "python3"
  },
  "language_info": {
   "codemirror_mode": {
    "name": "ipython",
    "version": 3
   },
   "file_extension": ".py",
   "mimetype": "text/x-python",
   "name": "python",
   "nbconvert_exporter": "python",
   "pygments_lexer": "ipython3",
   "version": "3.12.4"
  }
 },
 "nbformat": 4,
 "nbformat_minor": 5
}
