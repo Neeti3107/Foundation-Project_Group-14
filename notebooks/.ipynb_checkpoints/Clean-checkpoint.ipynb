{
 "cells": [
  {
   "cell_type": "code",
   "execution_count": 2,
   "id": "322bf091-4d9d-4d10-9ac3-28018f95c0bc",
   "metadata": {},
   "outputs": [
    {
     "name": "stdout",
     "output_type": "stream",
     "text": [
      "📄 Loading dataset: wfp_food_prices_india_2025-04-19.csv\n",
      "📄 Loading dataset from GitHub...\n",
      "✅ Cleaned file saved: C:\\Users\\neeti\\Documents\\ISB_Class of Summer_2025\\04 Term 4\\Foundation\\Foundation-Project_Group-14\\data\\cleaned\\retail_sugar_prices_2025-04-19.csv\n",
      "📊 Generating profile report...\n"
     ]
    },
    {
     "name": "stderr",
     "output_type": "stream",
     "text": [
      "C:\\Users\\neeti\\anaconda3\\Lib\\site-packages\\ydata_profiling\\utils\\dataframe.py:137: SettingWithCopyWarning: \n",
      "A value is trying to be set on a copy of a slice from a DataFrame\n",
      "\n",
      "See the caveats in the documentation: https://pandas.pydata.org/pandas-docs/stable/user_guide/indexing.html#returning-a-view-versus-a-copy\n",
      "  df.rename(columns={\"index\": \"df_index\"}, inplace=True)\n"
     ]
    },
    {
     "data": {
      "application/vnd.jupyter.widget-view+json": {
       "model_id": "1d17aeaf95e9493da0aeb6b6dd139fa7",
       "version_major": 2,
       "version_minor": 0
      },
      "text/plain": [
       "Summarize dataset:   0%|          | 0/5 [00:00<?, ?it/s]"
      ]
     },
     "metadata": {},
     "output_type": "display_data"
    },
    {
     "data": {
      "application/vnd.jupyter.widget-view+json": {
       "model_id": "a6adbbddb1b6425f9fd882069d1f07d1",
       "version_major": 2,
       "version_minor": 0
      },
      "text/plain": [
       "Generate report structure:   0%|          | 0/1 [00:00<?, ?it/s]"
      ]
     },
     "metadata": {},
     "output_type": "display_data"
    },
    {
     "data": {
      "application/vnd.jupyter.widget-view+json": {
       "model_id": "ebc3310c906641378043dbb0cb197524",
       "version_major": 2,
       "version_minor": 0
      },
      "text/plain": [
       "Render HTML:   0%|          | 0/1 [00:00<?, ?it/s]"
      ]
     },
     "metadata": {},
     "output_type": "display_data"
    },
    {
     "data": {
      "application/vnd.jupyter.widget-view+json": {
       "model_id": "7fa519d4212341d7a8930d37175773f3",
       "version_major": 2,
       "version_minor": 0
      },
      "text/plain": [
       "Export report to file:   0%|          | 0/1 [00:00<?, ?it/s]"
      ]
     },
     "metadata": {},
     "output_type": "display_data"
    },
    {
     "name": "stdout",
     "output_type": "stream",
     "text": [
      "✅ Profile report saved: C:\\Users\\neeti\\Documents\\ISB_Class of Summer_2025\\04 Term 4\\Foundation\\Foundation-Project_Group-14\\reports\\retail_sugar_profile_2025-04-19.html\n",
      "🚀 Files committed and pushed to GitHub.\n"
     ]
    }
   ],
   "source": [
    "import pandas as pd\n",
    "import os\n",
    "from datetime import datetime\n",
    "from pandas_profiling import ProfileReport\n",
    "import subprocess\n",
    "import glob\n",
    "\n",
    "# === CONFIG ===\n",
    "repo_path = r\"C:\\Users\\neeti\\Documents\\ISB_Class of Summer_2025\\04 Term 4\\Foundation\\Foundation-Project_Group-14\"\n",
    "data_folder = os.path.join(repo_path, \"data\")\n",
    "clean_folder = os.path.join(data_folder, \"cleaned\")\n",
    "report_folder = os.path.join(repo_path, \"reports\")\n",
    "os.makedirs(clean_folder, exist_ok=True)\n",
    "os.makedirs(report_folder, exist_ok=True)\n",
    "\n",
    "# === FILE PATHS ===\n",
    "today = datetime.now().strftime(\"%Y-%m-%d\")\n",
    "raw = glob.glob(os.path.join(data_folder, \"wfp_food_prices_india_*.csv\"))\n",
    "if not raw:\n",
    "    raise FileNotFoundError(\"❌ No raw WFP files found in data folder.\")\n",
    "\n",
    "raw_url = max(raw, key=os.path.getmtime)\n",
    "print(f\"📄 Loading dataset: {os.path.basename(raw_url)}\")\n",
    "cleaned_file = os.path.join(clean_folder, f\"retail_sugar_prices_{today}.csv\")\n",
    "report_file = os.path.join(report_folder, f\"retail_sugar_profile_{today}.html\")\n",
    "\n",
    "def clean_and_save_data():\n",
    "    print(\"📄 Loading dataset from GitHub...\")\n",
    "    df = pd.read_csv(raw_url, skiprows=[1])  # Skip 2nd row if garbage\n",
    "\n",
    "    # Clean & transform\n",
    "    df['date'] = pd.to_datetime(df['date'], errors='coerce')\n",
    "    df['price'] = pd.to_numeric(df['price'], errors='coerce')\n",
    "    df['commodity'] = df['commodity'].astype(str).str.strip().str.lower()\n",
    "    df['pricetype'] = df['pricetype'].astype(str).str.strip().str.lower()\n",
    "    df = df.dropna(subset=['date', 'price'])\n",
    "\n",
    "    # Filter for sugar + retail\n",
    "    df_filtered = df[(df['commodity'] == 'sugar') & (df['pricetype'] == 'retail')]\n",
    "\n",
    "    # Save filtered data\n",
    "    if not df_filtered.empty:\n",
    "        df_filtered.to_csv(cleaned_file, index=False)\n",
    "        print(f\"✅ Cleaned file saved: {cleaned_file}\")\n",
    "\n",
    "        # Generate profile report\n",
    "        print(\"📊 Generating profile report...\")\n",
    "        profile = ProfileReport(df_filtered, title=\"Retail Sugar Price Data Profile\", explorative=True)\n",
    "        profile.to_file(report_file)\n",
    "        print(f\"✅ Profile report saved: {report_file}\")\n",
    "    else:\n",
    "        print(\"⚠️ No matching 'sugar' + 'retail' records found. Skipping save/report.\")\n",
    "\n",
    "    return cleaned_file, report_file if not df_filtered.empty else (None, None)\n",
    "\n",
    "def git_push_files(files):\n",
    "    os.chdir(repo_path)\n",
    "    try:\n",
    "        for file in files:\n",
    "            if file and os.path.exists(file):\n",
    "                subprocess.run([\"git\", \"add\", file], check=True)\n",
    "\n",
    "        commit_msg = f\"Automated: Cleaned data + profile report on {today}\"\n",
    "        result = subprocess.run([\"git\", \"commit\", \"-m\", commit_msg], capture_output=True, text=True)\n",
    "\n",
    "        if \"nothing to commit\" in result.stdout.lower():\n",
    "            print(\"ℹ️ No new changes to commit.\")\n",
    "        else:\n",
    "            subprocess.run([\"git\", \"push\", \"origin\", \"main\"], check=True)\n",
    "            print(\"🚀 Files committed and pushed to GitHub.\")\n",
    "    except subprocess.CalledProcessError as e:\n",
    "        print(f\"❌ Git push failed: {e}\")\n",
    "\n",
    "if __name__ == \"__main__\":\n",
    "    cleaned_csv, profile_html = clean_and_save_data()\n",
    "    git_push_files([cleaned_csv, profile_html])\n"
   ]
  },
  {
   "cell_type": "code",
   "execution_count": null,
   "id": "f2f92ba7-158b-4e8e-a0fb-cb1ad2018a66",
   "metadata": {},
   "outputs": [],
   "source": []
  }
 ],
 "metadata": {
  "kernelspec": {
   "display_name": "Python 3 (ipykernel)",
   "language": "python",
   "name": "python3"
  },
  "language_info": {
   "codemirror_mode": {
    "name": "ipython",
    "version": 3
   },
   "file_extension": ".py",
   "mimetype": "text/x-python",
   "name": "python",
   "nbconvert_exporter": "python",
   "pygments_lexer": "ipython3",
   "version": "3.12.4"
  }
 },
 "nbformat": 4,
 "nbformat_minor": 5
}
